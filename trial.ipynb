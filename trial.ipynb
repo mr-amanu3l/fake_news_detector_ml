{
 "cells": [
  {
   "cell_type": "code",
   "execution_count": 1,
   "id": "7ef2ab9a",
   "metadata": {},
   "outputs": [
    {
     "name": "stdout",
     "output_type": "stream",
     "text": [
      "Combined dataset saved as 'fake_news.csv'.\n"
     ]
    }
   ],
   "source": [
    "import pandas as pd\n",
    "\n",
    "def combine_fake_real():\n",
    "    fake_df = pd.read_csv('Fake.csv')\n",
    "    real_df = pd.read_csv('True.csv')\n",
    "\n",
    "    fake_df['label'] = 'fake'\n",
    "    real_df['label'] = 'real'\n",
    "\n",
    "    fake_df = fake_df[['title', 'text', 'label']]\n",
    "    real_df = real_df[['title', 'text', 'label']]\n",
    "\n",
    "    combined_df = pd.concat([fake_df, real_df], ignore_index=True)\n",
    "    combined_df = combined_df.sample(frac=1, random_state=42).reset_index(drop=True)\n",
    "\n",
    "    combined_df.to_csv('fake_news.csv', index=False)\n",
    "    print(\"Combined dataset saved as 'fake_news.csv'.\")\n",
    "\n",
    "if __name__ == \"__main__\":\n",
    "    combine_fake_real()\n"
   ]
  }
 ],
 "metadata": {
  "kernelspec": {
   "display_name": "Python 3",
   "language": "python",
   "name": "python3"
  },
  "language_info": {
   "codemirror_mode": {
    "name": "ipython",
    "version": 3
   },
   "file_extension": ".py",
   "mimetype": "text/x-python",
   "name": "python",
   "nbconvert_exporter": "python",
   "pygments_lexer": "ipython3",
   "version": "3.12.6"
  }
 },
 "nbformat": 4,
 "nbformat_minor": 5
}
